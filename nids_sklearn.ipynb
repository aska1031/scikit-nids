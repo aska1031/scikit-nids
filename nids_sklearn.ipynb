{
 "cells": [
  {
   "cell_type": "markdown",
   "metadata": {},
   "source": [
    "# Build NIDS with scikit-learn"
   ]
  },
  {
   "cell_type": "markdown",
   "metadata": {},
   "source": [
    "The notebook is about how to build a simple Network-based intrusion detection system, we used scikit-learn as the machine learning library because of it's clear interface and powerful algorithms.\n"
   ]
  },
  {
   "cell_type": "markdown",
   "metadata": {},
   "source": [
    "- Introduction\n",
    "- Step 1: Get datasets\n",
    "- Step 2: Preprocessing\n",
    "  - Step 2.1: Binarization for label\n",
    "  - Step 2.2: Encoding Categorical Features\n",
    "  - Step 2.3: Standardization\n",
    "  - Step 2.4: Normalization\n",
    "  - Step 2.5: Training And Test Data\n",
    "- Step 3: Training\n",
    "  - Step 3.1: Training with LR\n",
    "  - Step 3.2: Training with linear SVC\n",
    "  - Step 3.3: Feature selection\n",
    "  - Step 3.3.1: Feature selection with L1 regularization\n",
    "  - Step 3.3.2: Feature importance with Random Forest\n",
    "- Step 4: Prediction\n",
    "- Step 5: Evaluation\n",
    "  - Step 5.1: Evaluation for LogisticRegression\n",
    "  - Step 5.2: Evaluation for RandomForest\n",
    "  - Step 5.3: Evaluation for SVC\n",
    "- Step 6: Dimensional reduction\n",
    "- Step 7: Re-training\n",
    "  - Step 7.1: Re-training: LR\n",
    "  - Step 7.2: Re-training: RF\n",
    "  - Step 7.3: Re-training: SVC\n",
    "- Step 8: Re-Prediction\n",
    "  - Step 8.1: Re-Prediction: LR\n",
    "  - Step 8.2: Re-Prediction: RF\n",
    "  - Step 8.3: Re-Prediction: SVC\n",
    "- Step 9: Re-Evaluation\n",
    "  - Step 9.1: Re-Evaluation for LR\n",
    "  - Step 9.2: Re-Evaluation for RF\n",
    "  - Step 9.3: Re-Evaluation for SVC\n",
    "- Step 10: Eigendecomposition\n",
    "- Step 11: Clustering"
   ]
  },
  {
   "cell_type": "markdown",
   "metadata": {},
   "source": [
    "## Introduction"
   ]
  },
  {
   "cell_type": "code",
   "execution_count": 1,
   "metadata": {},
   "outputs": [],
   "source": [
    "import pandas as pd\n",
    "import numpy as np\n",
    "import os\n",
    "import matplotlib.pyplot as plt\n",
    "from matplotlib.colors import ListedColormap\n",
    "from sklearn.preprocessing import LabelEncoder\n",
    "from sklearn.preprocessing import StandardScaler\n",
    "from sklearn.preprocessing import Normalizer\n",
    "from sklearn.model_selection import train_test_split\n",
    "from sklearn.svm import SVC\n",
    "# from sklearn.svm import SVC\n",
    "from sklearn.linear_model import LogisticRegression\n",
    "from sklearn.metrics import accuracy_score\n",
    "from sklearn.metrics import classification_report\n",
    "from sklearn.metrics import confusion_matrix\n",
    "from sklearn.decomposition import PCA\n",
    "from sklearn.feature_selection import SelectFromModel\n",
    "from sklearn.ensemble import RandomForestClassifier\n",
    "from sklearn.cluster import KMeans\n"
   ]
  },
  {
   "cell_type": "markdown",
   "metadata": {},
   "source": [
    "### Step 1: Get datasets"
   ]
  },
  {
   "cell_type": "code",
   "execution_count": 2,
   "metadata": {},
   "outputs": [],
   "source": [
    "# get dataset from http://kdd.ics.uci.edu/databases/kddcup99/kddcup.data_10_percent.gz\n",
    "NET_DATA_PATH = os.path.join(\"../datasets\")\n"
   ]
  },
  {
   "cell_type": "code",
   "execution_count": 3,
   "metadata": {},
   "outputs": [],
   "source": [
    "# get data from file\n",
    "def load_datasets(data_path=NET_DATA_PATH):\n",
    "    # 41 features , 1 label\n",
    "    feature_names = [\"duration\", \"protocol_type\", \"service\", \"flag\", \"src_bytes\",\n",
    "                     \"dst_bytes\", \"land\", \"wrong_fragment\", \"urgent\", \"hot\", \"num_failed_logins\",\n",
    "                     \"logged_in\", \"num_compromised\", \"root_shell\", \"su_attempted\", \"num_root\",\n",
    "                     \"num_file_creations\", \"num_shells\", \"num_access_files\", \"num_outbound_cmds\",\n",
    "                     \"is_host_login\", \"is_guest_login\", \"count\", \"srv_count\", \"serror_rate\",\n",
    "                     \"srv_serror_rate\", \"rerror_rate\", \"srv_rerror_rate\", \"same_srv_rate\",\n",
    "                     \"diff_srv_rate\", \"srv_diff_host_rate\", \"dst_host_count\", \"dst_host_srv_count\",\n",
    "                     \"dst_host_same_srv_rate\", \"dst_host_diff_srv_rate\", \"dst_host_same_src_port_rate\",\n",
    "                     \"dst_host_srv_diff_host_rate\", \"dst_host_serror_rate\", \"dst_host_srv_serror_rate\",\n",
    "                     \"dst_host_rerror_rate\", \"dst_host_srv_rerror_rate\", \"label\"]\n",
    "    data_file = os.path.join(data_path, \"datasets_10\")\n",
    "    return pd.read_csv(data_file, header=None, names=feature_names)\n"
   ]
  },
  {
   "cell_type": "code",
   "execution_count": 4,
   "metadata": {},
   "outputs": [],
   "source": [
    "def plot_features(X):\n",
    "    # plot data\n",
    "    # for index, classes in X.groupby('label'):\n",
    "    #     print('class_{}'.format(index))\n",
    "    #     print(classes)\n",
    "\n",
    "    # attack_data = X[X['label'] == 1]                                  #for dataframe\n",
    "    # normal_data = X[X['label'] == -1]                                 #for dataframe\n",
    "    attack_data = X[X[:, -1] > 0]  # numpy\n",
    "    normal_data = X[X[:, -1] < 0]  # numpy\n",
    "    # print(attack_data)\n",
    "    # print(normal_data)\n",
    "    #\n",
    "    # plt.scatter(attack_data.values[:200, 0], attack_data.values[:200, 1],         #dataframe\n",
    "    #             color='red', marker='o', label='attack')\n",
    "    # plt.scatter(normal_data.values[:200, 0], normal_data.values[:200, 1],            #dataframe\n",
    "    #             color='blue', marker='x', label='normal')\n",
    "\n",
    "    plt.scatter(attack_data[:, 0], attack_data[:, 1],  # numpy\n",
    "                color='red', marker='o', label='attack traffics')\n",
    "    plt.scatter(normal_data[:, 0], normal_data[:, 1],  # numpy\n",
    "                color='blue', marker='x', label='normal traffics')\n",
    "\n",
    "    plt.xlabel('feature 1')\n",
    "    plt.ylabel('feature 2')\n",
    "    plt.legend(loc='upper left')\n",
    "\n",
    "    plt.show()\n"
   ]
  },
  {
   "cell_type": "code",
   "execution_count": 5,
   "metadata": {},
   "outputs": [],
   "source": [
    "\n",
    "def plot_decision_regions(X, y, classifier, resolution=0.02):\n",
    "    # setup marker generator and color map\n",
    "    markers = ('s', 'x', 'o', '^', 'v')\n",
    "    colors = ('red', 'blue', 'lightgreen', 'gray', 'cyan')\n",
    "    cmap = ListedColormap(colors[:len(np.unique(y))])\n",
    "\n",
    "    # plot the decision surface\n",
    "    x1_min, x1_max = X[:, 0].min() - 1, X[:, 0].max() + 1\n",
    "    x2_min, x2_max = X[:, 1].min() - 1, X[:, 1].max() + 1\n",
    "    xx1, xx2 = np.meshgrid(np.arange(x1_min, x1_max, resolution),\n",
    "                           np.arange(x2_min, x2_max, resolution))\n",
    "    Z = classifier.predict(np.array([xx1.ravel(), xx2.ravel()]).T)\n",
    "    Z = Z.reshape(xx1.shape)\n",
    "    plt.contourf(xx1, xx2, Z, alpha=0.4, cmap=cmap)\n",
    "    plt.xlim(xx1.min(), xx1.max())\n",
    "    plt.ylim(xx2.min(), xx2.max())\n",
    "\n",
    "    # plot class samples\n",
    "    for idx, cl in enumerate(np.unique(y)):\n",
    "        plt.scatter(x=X[y == cl, 0], y=X[y == cl, 1],\n",
    "                    alpha=0.8, c=cmap(idx),\n",
    "                    edgecolor='black',\n",
    "                    marker=markers[idx],\n",
    "                    label=cl)\n"
   ]
  },
  {
   "cell_type": "code",
   "execution_count": 6,
   "metadata": {},
   "outputs": [
    {
     "name": "stdout",
     "output_type": "stream",
     "text": [
      "normal.             21110\n",
      "smurf.               3695\n",
      "teardrop.              99\n",
      "guess_passwd.          53\n",
      "pod.                   20\n",
      "portsweep.             17\n",
      "buffer_overflow.        2\n",
      "neptune.                2\n",
      "loadmodule.             1\n",
      "perl.                   1\n",
      "Name: label, dtype: int64\n"
     ]
    }
   ],
   "source": [
    "data = load_datasets()\n",
    "data = data.iloc[:25000, :]\n",
    "\n",
    "# select top 2 features: srv_count, num_compromised\n",
    "# data = datasets[['srv_count', 'num_compromised', 'label']]\n",
    "\n",
    "\n",
    "# print(data.head())\n",
    "# print(data.tail())\n",
    "\n",
    "# print(data.info())\n",
    "\n",
    "print(data['label'].value_counts())\n"
   ]
  },
  {
   "cell_type": "markdown",
   "metadata": {},
   "source": [
    "### Step 2: Preprocessing"
   ]
  },
  {
   "cell_type": "markdown",
   "metadata": {},
   "source": [
    "### Step 2.1: Binarization for label"
   ]
  },
  {
   "cell_type": "code",
   "execution_count": 7,
   "metadata": {},
   "outputs": [],
   "source": [
    "\n",
    "# get label, last column, convert it to binary classification label\n",
    "ori_labels = data.iloc[:,-1].values\n",
    "data.iloc[:, -1] = np.where(data.iloc[:, -1] == 'normal.', -1, 1)\n",
    "labels = data.iloc[:, -1].values\n",
    "# labels = last_column.copy()\n",
    "# labels[labels != 'normal.'] = 'attack.'               # dataframe\n",
    "# print(labels.value_counts())                          # dataframe\n",
    "# print(labels)\n"
   ]
  },
  {
   "cell_type": "markdown",
   "metadata": {},
   "source": [
    "### Step 2.2: Encoding Categorical Features"
   ]
  },
  {
   "cell_type": "code",
   "execution_count": 8,
   "metadata": {},
   "outputs": [],
   "source": [
    "\n",
    "# get features, Encoding Categorical Features for 3 features\n",
    "data.sort_values('label')\n",
    "enc = LabelEncoder()\n",
    "data['service'] = enc.fit_transform(data['service'])\n",
    "data['flag'] = enc.fit_transform(data['flag'])\n",
    "data['protocol_type'] = enc.fit_transform(data['protocol_type'])\n",
    "\n",
    "# features.astype(float)\n",
    "# print(features.info())\n",
    "# print(features['service'])\n"
   ]
  },
  {
   "cell_type": "markdown",
   "metadata": {},
   "source": [
    "### Step 2.3: Standardization"
   ]
  },
  {
   "cell_type": "code",
   "execution_count": 10,
   "metadata": {},
   "outputs": [],
   "source": [
    "std_data = StandardScaler().fit(data).transform(data)"
   ]
  },
  {
   "cell_type": "markdown",
   "metadata": {},
   "source": [
    "### Step 2.4: Normalization"
   ]
  },
  {
   "cell_type": "code",
   "execution_count": 11,
   "metadata": {},
   "outputs": [],
   "source": [
    "normalized_data = Normalizer().fit(std_data).transform(std_data)\n"
   ]
  },
  {
   "cell_type": "markdown",
   "metadata": {},
   "source": [
    "### Step 2.5: Training And Test Data"
   ]
  },
  {
   "cell_type": "code",
   "execution_count": 14,
   "metadata": {},
   "outputs": [],
   "source": [
    "# features = normalized_data.drop('label', axis=1)                  #dataframe\n",
    "features = np.delete(normalized_data, -1, axis=1)\n",
    "train_data, test_data, train_labels, test_labels = train_test_split(features, labels, test_size=0.3,\n",
    "                                                                    random_state=24)\n"
   ]
  },
  {
   "cell_type": "markdown",
   "metadata": {},
   "source": [
    "### Step 3: Training"
   ]
  },
  {
   "cell_type": "markdown",
   "metadata": {},
   "source": [
    "### Step 3.1: Training with LR"
   ]
  },
  {
   "cell_type": "code",
   "execution_count": 17,
   "metadata": {},
   "outputs": [
    {
     "data": {
      "text/plain": [
       "LogisticRegression(C=1.0, class_weight=None, dual=False, fit_intercept=True,\n",
       "          intercept_scaling=1, max_iter=100, multi_class='ovr', n_jobs=1,\n",
       "          penalty='l1', random_state=0, solver='liblinear', tol=0.0001,\n",
       "          verbose=0, warm_start=False)"
      ]
     },
     "execution_count": 17,
     "metadata": {},
     "output_type": "execute_result"
    }
   ],
   "source": [
    "\n",
    "lr = LogisticRegression(C=1.0, penalty='l1', random_state=0)\n",
    "lr.fit(train_data, train_labels)\n",
    "\n",
    "# plot_decision_regions(train_data, train_labels, classifier=lr)\n",
    "# plt.xlabel('Feature 1')\n",
    "# plt.ylabel('Feature 2')\n",
    "# plt.legend(loc='upper left')\n",
    "#\n",
    "# plt.tight_layout()\n",
    "# plt.show()\n"
   ]
  },
  {
   "cell_type": "markdown",
   "metadata": {},
   "source": [
    "### Step 3.2: Training with linear SVC"
   ]
  },
  {
   "cell_type": "code",
   "execution_count": 18,
   "metadata": {},
   "outputs": [
    {
     "data": {
      "text/plain": [
       "SVC(C=100.0, cache_size=200, class_weight=None, coef0=0.0,\n",
       "  decision_function_shape='ovr', degree=3, gamma=0.1, kernel='rbf',\n",
       "  max_iter=-1, probability=False, random_state=0, shrinking=True,\n",
       "  tol=0.001, verbose=False)"
      ]
     },
     "execution_count": 18,
     "metadata": {},
     "output_type": "execute_result"
    }
   ],
   "source": [
    "\n",
    "svm = SVC(kernel='rbf', random_state=0, gamma=0.10, C=100.0)\n",
    "# svm = SVC(kernel='linear', C=1.0, random_state=0)\n",
    "svm.fit(train_data, train_labels)\n",
    "\n",
    "#\n",
    "# plot_decision_regions(train_data, train_labels, classifier=svm)\n",
    "# plt.xlabel('Feature 1')\n",
    "# plt.ylabel('Feature 2')\n",
    "# plt.legend(loc='upper left')\n",
    "#\n",
    "# plt.tight_layout()\n",
    "# plt.show()\n"
   ]
  },
  {
   "cell_type": "markdown",
   "metadata": {},
   "source": [
    "### Step 3.3: Feature selection"
   ]
  },
  {
   "cell_type": "markdown",
   "metadata": {},
   "source": [
    "### Step 3.3.1: Feature selection with L1 regularization"
   ]
  },
  {
   "cell_type": "code",
   "execution_count": 20,
   "metadata": {},
   "outputs": [
    {
     "name": "stdout",
     "output_type": "stream",
     "text": [
      "Training accuracy: 0.999771428571\n",
      "Test accuracy: 0.999771428571\n",
      "Intercept: [-3.442558]\n",
      "Model weights: [[  0.          -5.72385499   0.           0.           0.           0.\n",
      "    0.          11.9457327    0.           0.           7.3199053\n",
      "   -4.63981077   0.           0.           0.           0.           0.\n",
      "    0.           0.           0.           0.           0.          14.26386929\n",
      "    4.59001604   0.           0.           2.10442474   0.72455873\n",
      "   -1.18770966   0.           0.           0.83811994   3.00262987   0.\n",
      "    0.           0.           0.           0.64944708   3.94242612   0.\n",
      "    5.11219074]]\n"
     ]
    }
   ],
   "source": [
    "print('Training accuracy:', lr.score(train_data, train_labels))\n",
    "print('Test accuracy:', lr.score(train_data, train_labels))\n",
    "print('Intercept:', lr.intercept_)\n",
    "print('Model weights:', lr.coef_)\n"
   ]
  },
  {
   "cell_type": "markdown",
   "metadata": {},
   "source": [
    "### Step 3.3.2: Feature importance with Random Forest"
   ]
  },
  {
   "cell_type": "code",
   "execution_count": 21,
   "metadata": {},
   "outputs": [],
   "source": [
    "names = data.columns[1:]\n",
    "forest = RandomForestClassifier(n_estimators=10,\n",
    "                                random_state=0,\n",
    "                                n_jobs=-1)\n",
    "forest.fit(train_data, train_labels)\n",
    "importances = forest.feature_importances_\n",
    "indices = np.argsort(importances)[::-1]\n",
    "#\n",
    "# for f in range(train_data.shape[1]):\n",
    "#     print(\"%2d) %-*s %f\" % (f + 1, 30,\n",
    "#                             names[indices[f]],\n",
    "#                             importances[indices[f]]))\n",
    "#\n",
    "# plt.title('Feature Importances')\n",
    "# plt.bar(range(train_data.shape[1]),\n",
    "#         importances[indices],\n",
    "#         color='lightblue',\n",
    "#         align='center')\n",
    "#\n",
    "# plt.xticks(range(train_data.shape[1]),\n",
    "#            names[indices], rotation=90)\n",
    "# plt.xlim([-1, train_data.shape[1]])\n",
    "# plt.tight_layout()\n",
    "# plt.show()\n"
   ]
  },
  {
   "cell_type": "markdown",
   "metadata": {},
   "source": [
    "### Step 4: Prediction"
   ]
  },
  {
   "cell_type": "code",
   "execution_count": 22,
   "metadata": {},
   "outputs": [],
   "source": [
    "\n",
    "pred_labels = lr.predict(test_data)\n",
    "# print(pred_labels)\n",
    "\n",
    "pred_labels_rf = forest.predict(test_data)\n",
    "pred_labels_svc = svm.predict(test_data)\n"
   ]
  },
  {
   "cell_type": "markdown",
   "metadata": {},
   "source": [
    "### Step 5: Evaluation"
   ]
  },
  {
   "cell_type": "markdown",
   "metadata": {},
   "source": [
    "### Step 5.1: Evaluation for LogisticRegression"
   ]
  },
  {
   "cell_type": "code",
   "execution_count": 25,
   "metadata": {},
   "outputs": [
    {
     "name": "stdout",
     "output_type": "stream",
     "text": [
      "Accuracy for LogisticRegression: 1.00\n",
      "             precision    recall  f1-score   support\n",
      "\n",
      "         -1       1.00      1.00      1.00      6362\n",
      "          1       1.00      0.99      1.00      1138\n",
      "\n",
      "avg / total       1.00      1.00      1.00      7500\n",
      "\n",
      "[[6361    1]\n",
      " [   6 1132]]\n"
     ]
    }
   ],
   "source": [
    "\n",
    "print('Accuracy for LogisticRegression: %.2f' % accuracy_score(test_labels, pred_labels))\n",
    "print(classification_report(test_labels, pred_labels))\n",
    "print(confusion_matrix(test_labels, pred_labels))\n"
   ]
  },
  {
   "cell_type": "markdown",
   "metadata": {},
   "source": [
    "### Step 5.2: Evaluation for RandomForest"
   ]
  },
  {
   "cell_type": "code",
   "execution_count": 27,
   "metadata": {},
   "outputs": [
    {
     "name": "stdout",
     "output_type": "stream",
     "text": [
      "Accuracy for Random Forest: 1.00\n",
      "             precision    recall  f1-score   support\n",
      "\n",
      "         -1       1.00      1.00      1.00      6362\n",
      "          1       1.00      1.00      1.00      1138\n",
      "\n",
      "avg / total       1.00      1.00      1.00      7500\n",
      "\n",
      "[[6362    0]\n",
      " [   5 1133]]\n"
     ]
    }
   ],
   "source": [
    "\n",
    "print('Accuracy for Random Forest: %.2f' % accuracy_score(test_labels, pred_labels_rf))\n",
    "print(classification_report(test_labels, pred_labels_rf))\n",
    "print(confusion_matrix(test_labels, pred_labels_rf))\n"
   ]
  },
  {
   "cell_type": "markdown",
   "metadata": {},
   "source": [
    "### Step 5.3: Evaluation for SVC"
   ]
  },
  {
   "cell_type": "code",
   "execution_count": 29,
   "metadata": {},
   "outputs": [
    {
     "name": "stdout",
     "output_type": "stream",
     "text": [
      "Accuracy for Random Forest: 1.00\n",
      "             precision    recall  f1-score   support\n",
      "\n",
      "         -1       1.00      1.00      1.00      6362\n",
      "          1       1.00      1.00      1.00      1138\n",
      "\n",
      "avg / total       1.00      1.00      1.00      7500\n",
      "\n",
      "[[6361    1]\n",
      " [   3 1135]]\n"
     ]
    }
   ],
   "source": [
    "\n",
    "print('Accuracy for Random Forest: %.2f' % accuracy_score(test_labels, pred_labels_rf))\n",
    "print(classification_report(test_labels, pred_labels_rf))\n",
    "print(confusion_matrix(test_labels, pred_labels_svc))\n"
   ]
  },
  {
   "cell_type": "markdown",
   "metadata": {},
   "source": [
    "### Step 6: Dimensional reduction"
   ]
  },
  {
   "cell_type": "code",
   "execution_count": 31,
   "metadata": {},
   "outputs": [
    {
     "name": "stdout",
     "output_type": "stream",
     "text": [
      "Variance explained ratio:\n",
      " [ 0.35563008  0.29324988]\n"
     ]
    }
   ],
   "source": [
    "\n",
    "pca = PCA(n_components=2)\n",
    "pca_train_data = pca.fit_transform(train_data)\n",
    "pca_test_data = pca.transform(test_data)  # no need fit again ?\n",
    "print('Variance explained ratio:\\n', pca.explained_variance_ratio_)\n",
    "\n"
   ]
  },
  {
   "cell_type": "markdown",
   "metadata": {},
   "source": [
    "### Step 7: Re-training"
   ]
  },
  {
   "cell_type": "markdown",
   "metadata": {},
   "source": [
    "### Step 7.1: Re-training: LR"
   ]
  },
  {
   "cell_type": "code",
   "execution_count": 34,
   "metadata": {},
   "outputs": [
    {
     "data": {
      "image/png": "[encoded data removed]",
      "text/plain": [
       "<matplotlib.figure.Figure at 0x7f07be876780>"
      ]
     },
     "metadata": {},
     "output_type": "display_data"
    }
   ],
   "source": [
    "\n",
    "lr = LogisticRegression(C=0.1, random_state=1)\n",
    "lr.fit(pca_train_data, train_labels)\n",
    "\n",
    "plot_decision_regions(pca_train_data, train_labels, classifier=lr)\n",
    "plt.xlabel('Feature 1')\n",
    "plt.ylabel('Feature 2')\n",
    "plt.legend(loc='upper left')\n",
    "\n",
    "plt.tight_layout()\n",
    "plt.show()\n"
   ]
  },
  {
   "cell_type": "markdown",
   "metadata": {},
   "source": [
    "### Step 7.2: Re-training: RF"
   ]
  },
  {
   "cell_type": "code",
   "execution_count": 36,
   "metadata": {},
   "outputs": [
    {
     "data": {
      "image/png": "[encoded data removed]",
      "text/plain": [
       "<matplotlib.figure.Figure at 0x7f07be871eb8>"
      ]
     },
     "metadata": {},
     "output_type": "display_data"
    }
   ],
   "source": [
    "\n",
    "forest = RandomForestClassifier(n_estimators=10,\n",
    "                                random_state=1,\n",
    "                                n_jobs=-1)\n",
    "forest.fit(pca_train_data, train_labels)\n",
    "\n",
    "\n",
    "plot_decision_regions(pca_train_data, train_labels, classifier=forest)\n",
    "plt.xlabel('Feature 1')\n",
    "plt.ylabel('Feature 2')\n",
    "plt.legend(loc='upper left')\n",
    "\n",
    "plt.tight_layout()\n",
    "plt.show()\n"
   ]
  },
  {
   "cell_type": "markdown",
   "metadata": {},
   "source": [
    "### Step 7.3: Re-training: SVC"
   ]
  },
  {
   "cell_type": "code",
   "execution_count": 38,
   "metadata": {},
   "outputs": [
    {
     "data": {
      "image/png": "[encoded data removed]",
      "text/plain": [
       "<matplotlib.figure.Figure at 0x7f07bdfc0a20>"
      ]
     },
     "metadata": {},
     "output_type": "display_data"
    }
   ],
   "source": [
    "\n",
    "svm = SVC(kernel='rbf', random_state=0, gamma=0.10, C=10.0)\n",
    "svm.fit(pca_train_data, train_labels)\n",
    "\n",
    "plot_decision_regions(pca_train_data, train_labels, classifier=svm)\n",
    "plt.xlabel('Feature 1')\n",
    "plt.ylabel('Feature 2')\n",
    "plt.legend(loc='upper left')\n",
    "\n",
    "plt.tight_layout()\n",
    "plt.show()\n"
   ]
  },
  {
   "cell_type": "markdown",
   "metadata": {},
   "source": [
    "### Step 8: Re-Prediction"
   ]
  },
  {
   "cell_type": "markdown",
   "metadata": {},
   "source": [
    "### Step 8.1: Re-Prediction: LR"
   ]
  },
  {
   "cell_type": "code",
   "execution_count": 41,
   "metadata": {},
   "outputs": [],
   "source": [
    "pca_pred_labels = lr.predict(pca_test_data)\n"
   ]
  },
  {
   "cell_type": "markdown",
   "metadata": {},
   "source": [
    "### Step 8.2: Re-Prediction: RF"
   ]
  },
  {
   "cell_type": "code",
   "execution_count": 43,
   "metadata": {},
   "outputs": [],
   "source": [
    "pca_pred_labels_rf = forest.predict(pca_test_data)\n"
   ]
  },
  {
   "cell_type": "markdown",
   "metadata": {},
   "source": [
    "### Step 8.3: Re-Prediction: SVC"
   ]
  },
  {
   "cell_type": "code",
   "execution_count": 45,
   "metadata": {},
   "outputs": [],
   "source": [
    "pca_pred_labels_svc = svm.predict(pca_test_data)\n"
   ]
  },
  {
   "cell_type": "markdown",
   "metadata": {},
   "source": [
    "### Step 9: Re-Evaluation"
   ]
  },
  {
   "cell_type": "markdown",
   "metadata": {},
   "source": [
    "### Step 9.1: Re-Evaluation for LR"
   ]
  },
  {
   "cell_type": "code",
   "execution_count": 48,
   "metadata": {},
   "outputs": [
    {
     "name": "stdout",
     "output_type": "stream",
     "text": [
      "Accuracy for LR: 0.99\n",
      "             precision    recall  f1-score   support\n",
      "\n",
      "         -1       0.99      1.00      0.99      6362\n",
      "          1       0.99      0.95      0.97      1138\n",
      "\n",
      "avg / total       0.99      0.99      0.99      7500\n",
      "\n",
      "[[6346   16]\n",
      " [  55 1083]]\n"
     ]
    }
   ],
   "source": [
    "\n",
    "print('Accuracy for LR: %.2f' % accuracy_score(test_labels, pca_pred_labels))\n",
    "print(classification_report(test_labels, pca_pred_labels))\n",
    "print(confusion_matrix(test_labels, pca_pred_labels))\n"
   ]
  },
  {
   "cell_type": "markdown",
   "metadata": {},
   "source": [
    "### Step 9.2: Re-Evaluation for RF"
   ]
  },
  {
   "cell_type": "code",
   "execution_count": 50,
   "metadata": {},
   "outputs": [
    {
     "name": "stdout",
     "output_type": "stream",
     "text": [
      "Accuracy for RF: 1.00\n",
      "             precision    recall  f1-score   support\n",
      "\n",
      "         -1       1.00      1.00      1.00      6362\n",
      "          1       1.00      0.99      0.99      1138\n",
      "\n",
      "avg / total       1.00      1.00      1.00      7500\n",
      "\n",
      "[[6357    5]\n",
      " [  10 1128]]\n"
     ]
    }
   ],
   "source": [
    "\n",
    "print('Accuracy for RF: %.2f' % accuracy_score(test_labels, pca_pred_labels_rf))\n",
    "print(classification_report(test_labels, pca_pred_labels_rf))\n",
    "print(confusion_matrix(test_labels, pca_pred_labels_rf))\n"
   ]
  },
  {
   "cell_type": "markdown",
   "metadata": {},
   "source": [
    "### Step 9.3: Re-Evaluation for SVC"
   ]
  },
  {
   "cell_type": "code",
   "execution_count": 52,
   "metadata": {},
   "outputs": [
    {
     "name": "stdout",
     "output_type": "stream",
     "text": [
      "Accuracy for RF: 1.00\n",
      "             precision    recall  f1-score   support\n",
      "\n",
      "         -1       1.00      1.00      1.00      6362\n",
      "          1       1.00      0.99      0.99      1138\n",
      "\n",
      "avg / total       1.00      1.00      1.00      7500\n",
      "\n",
      "[[6357    5]\n",
      " [  10 1128]]\n"
     ]
    }
   ],
   "source": [
    "\n",
    "print('Accuracy for RF: %.2f' % accuracy_score(test_labels, pca_pred_labels_rf))\n",
    "print(classification_report(test_labels, pca_pred_labels_rf))\n",
    "print(confusion_matrix(test_labels, pca_pred_labels_rf))\n"
   ]
  },
  {
   "cell_type": "markdown",
   "metadata": {},
   "source": [
    "### Step 10: Eigendecomposition"
   ]
  },
  {
   "cell_type": "code",
   "execution_count": 54,
   "metadata": {},
   "outputs": [
    {
     "name": "stdout",
     "output_type": "stream",
     "text": [
      "\n",
      "Eigenvalues \n",
      "[  2.99114361e-01   2.46647445e-01   8.50126427e-02   5.29780334e-02\n",
      "   4.75289654e-02   2.85475047e-02   1.88452658e-02   1.22841006e-02\n",
      "   1.10857767e-02   5.40650502e-03   4.64356047e-03   4.04133932e-03\n",
      "   3.68995540e-03   3.53475285e-03   2.91677072e-03   2.76153067e-03\n",
      "   2.26727730e-03   1.74005980e-03   1.43924964e-03   1.23517339e-03\n",
      "   1.06042316e-03   9.25037386e-04   7.01341056e-04   4.72990524e-04\n",
      "   4.62231636e-04   4.33429036e-04   3.47228851e-04   2.43505405e-04\n",
      "   2.63051126e-06   9.35090494e-06   5.70148567e-05   4.95794351e-05\n",
      "   1.18869781e-04   1.65862646e-04   1.57514162e-04   1.55566328e-04\n",
      "   0.00000000e+00   0.00000000e+00   0.00000000e+00   0.00000000e+00\n",
      "   0.00000000e+00]\n"
     ]
    },
    {
     "data": {
      "image/png": "[encoded data removed]",
      "text/plain": [
       "<matplotlib.figure.Figure at 0x7f07ba1f1240>"
      ]
     },
     "metadata": {},
     "output_type": "display_data"
    }
   ],
   "source": [
    "\n",
    "cov_mat = np.cov(train_data.T)\n",
    "eigen_vals, eigen_vecs = np.linalg.eig(cov_mat)\n",
    "\n",
    "print('\\nEigenvalues \\n%s' % eigen_vals)\n",
    "\n",
    "tot = sum(eigen_vals)\n",
    "var_exp = [(i / tot) for i in sorted(eigen_vals, reverse=True)]\n",
    "cum_var_exp = np.cumsum(var_exp)\n",
    "\n",
    "plt.bar(range(1, 42), var_exp, alpha=0.5, align='center',\n",
    "        label='individual explained variance')\n",
    "plt.step(range(1, 42), cum_var_exp, where='mid',\n",
    "         label='cumulative explained variance')\n",
    "plt.ylabel('Explained variance ratio')\n",
    "plt.xlabel('Principal components')\n",
    "plt.legend(loc='best')\n",
    "plt.show()\n"
   ]
  },
  {
   "cell_type": "markdown",
   "metadata": {},
   "source": [
    "### Step 11: Clustering"
   ]
  },
  {
   "cell_type": "code",
   "execution_count": 57,
   "metadata": {},
   "outputs": [
    {
     "name": "stdout",
     "output_type": "stream",
     "text": [
      "2     2784\n",
      "0     2608\n",
      "6     2119\n",
      "12    1614\n",
      "8     1163\n",
      "10     930\n",
      "1      928\n",
      "5      700\n",
      "13     638\n",
      "7      630\n",
      "4      612\n",
      "3      469\n",
      "9      449\n",
      "17     439\n",
      "15     424\n",
      "14     347\n",
      "11     337\n",
      "19     113\n",
      "18     105\n",
      "16      91\n",
      "dtype: int64\n",
      "Cluster 0 labels:\n",
      "normal.        2055\n",
      "smurf.          549\n",
      "pod.              2\n",
      "loadmodule.       1\n",
      "neptune.          1\n",
      "dtype: int64\n",
      "Cluster 1 labels:\n",
      "normal.    735\n",
      "smurf.     192\n",
      "pod.         1\n",
      "dtype: int64\n",
      "Cluster 2 labels:\n",
      "normal.             2186\n",
      "smurf.               588\n",
      "pod.                   7\n",
      "buffer_overflow.       1\n",
      "perl.                  1\n",
      "neptune.               1\n",
      "dtype: int64\n",
      "Cluster 3 labels:\n",
      "normal.    360\n",
      "smurf.     109\n",
      "dtype: int64\n",
      "Cluster 4 labels:\n",
      "normal.    498\n",
      "smurf.     113\n",
      "pod.         1\n",
      "dtype: int64\n",
      "Cluster 5 labels:\n",
      "normal.             549\n",
      "smurf.              150\n",
      "buffer_overflow.      1\n",
      "dtype: int64\n",
      "Cluster 6 labels:\n",
      "normal.          1700\n",
      "smurf.            416\n",
      "pod.                2\n",
      "guess_passwd.       1\n",
      "dtype: int64\n",
      "Cluster 7 labels:\n",
      "normal.    493\n",
      "smurf.     137\n",
      "dtype: int64\n",
      "Cluster 8 labels:\n",
      "normal.    914\n",
      "smurf.     245\n",
      "pod.         4\n",
      "dtype: int64\n",
      "Cluster 9 labels:\n",
      "normal.    369\n",
      "smurf.      79\n",
      "pod.         1\n",
      "dtype: int64\n",
      "Cluster 10 labels:\n",
      "normal.    735\n",
      "smurf.     195\n",
      "dtype: int64\n",
      "Cluster 11 labels:\n",
      "normal.    266\n",
      "smurf.      70\n",
      "pod.         1\n",
      "dtype: int64\n",
      "Cluster 12 labels:\n",
      "normal.    1258\n",
      "smurf.      356\n",
      "dtype: int64\n",
      "Cluster 13 labels:\n",
      "normal.    497\n",
      "smurf.     141\n",
      "dtype: int64\n",
      "Cluster 14 labels:\n",
      "normal.    265\n",
      "smurf.      82\n",
      "dtype: int64\n",
      "Cluster 15 labels:\n",
      "normal.    321\n",
      "smurf.     103\n",
      "dtype: int64\n",
      "Cluster 16 labels:\n",
      "normal.    70\n",
      "smurf.     21\n",
      "dtype: int64\n",
      "Cluster 17 labels:\n",
      "normal.    334\n",
      "smurf.     104\n",
      "pod.         1\n",
      "dtype: int64\n",
      "Cluster 18 labels:\n",
      "normal.    90\n",
      "smurf.     15\n",
      "dtype: int64\n",
      "Cluster 19 labels:\n",
      "normal.    83\n",
      "smurf.     30\n",
      "dtype: int64\n"
     ]
    }
   ],
   "source": [
    "\n",
    "k = 20\n",
    "km = KMeans(n_clusters=k)\n",
    "km.fit(train_data)\n",
    "print(pd.Series(km.labels_).value_counts())\n",
    "\n",
    "label_names = list(map(\n",
    "    lambda x: pd.Series([ori_labels[i] for i in range(len(km.labels_)) if km.labels_[i] == x]),\n",
    "    range(k)))\n",
    "\n",
    "for i in range(k):\n",
    "    print(\"Cluster {} labels:\".format(i))\n",
    "    print(label_names[i].value_counts())"
   ]
  },
  {
   "cell_type": "code",
   "execution_count": null,
   "metadata": {},
   "outputs": [],
   "source": []
  }
 ],
 "metadata": {
  "kernelspec": {
   "display_name": "Python 3",
   "language": "python",
   "name": "python3"
  },
  "language_info": {
   "codemirror_mode": {
    "name": "ipython",
    "version": 3
   },
   "file_extension": ".py",
   "mimetype": "text/x-python",
   "name": "python",
   "nbconvert_exporter": "python",
   "pygments_lexer": "ipython3",
   "version": "3.4.5"
  }
 },
 "nbformat": 4,
 "nbformat_minor": 2
}
